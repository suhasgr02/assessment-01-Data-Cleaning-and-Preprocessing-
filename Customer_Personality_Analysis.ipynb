{
  "nbformat": 4,
  "nbformat_minor": 0,
  "metadata": {
    "colab": {
      "provenance": []
    },
    "kernelspec": {
      "name": "python3",
      "display_name": "Python 3"
    },
    "language_info": {
      "name": "python"
    }
  },
  "cells": [
    {
      "cell_type": "markdown",
      "source": [
        "**Data Cleaning and Preprocessing**"
      ],
      "metadata": {
        "id": "8MF2k36sqEi7"
      }
    },
    {
      "cell_type": "code",
      "source": [
        "import pandas as pd\n",
        "\n",
        "df = pd.read_csv('/content/marketing_campaign.csv')"
      ],
      "metadata": {
        "id": "nV2zmiahsLiw"
      },
      "execution_count": 23,
      "outputs": []
    },
    {
      "cell_type": "code",
      "source": [
        "# Handle Missing Values\n",
        "print(\"Columns with missing values:\\n\", df.isnull().sum())"
      ],
      "metadata": {
        "colab": {
          "base_uri": "https://localhost:8080/"
        },
        "id": "xOyx59Q9sbhy",
        "outputId": "90947c28-32ae-493b-f1b1-af2fbec79c99"
      },
      "execution_count": 24,
      "outputs": [
        {
          "output_type": "stream",
          "name": "stdout",
          "text": [
            "Columns with missing values:\n",
            " ID\\tYear_Birth\\tEducation\\tMarital_Status\\tIncome\\tKidhome\\tTeenhome\\tDt_Customer\\tRecency\\tMntWines\\tMntFruits\\tMntMeatProducts\\tMntFishProducts\\tMntSweetProducts\\tMntGoldProds\\tNumDealsPurchases\\tNumWebPurchases\\tNumCatalogPurchases\\tNumStorePurchases\\tNumWebVisitsMonth\\tAcceptedCmp3\\tAcceptedCmp4\\tAcceptedCmp5\\tAcceptedCmp1\\tAcceptedCmp2\\tComplain\\tZ_CostContact\\tZ_Revenue\\tResponse    0\n",
            "dtype: int64\n"
          ]
        }
      ]
    },
    {
      "cell_type": "code",
      "source": [
        "# Fill missing 'age' with the mean age\n",
        "if 'age' in df.columns:\n",
        "    df['age'].fillna(df['age'].mean(), inplace=True)"
      ],
      "metadata": {
        "id": "FXN8hq9Lsq1S"
      },
      "execution_count": 25,
      "outputs": []
    },
    {
      "cell_type": "code",
      "source": [
        "# Drop rows with missing 'gender'\n",
        "if 'gender' in df.columns:\n",
        "    df.dropna(subset=['gender'], inplace=True)"
      ],
      "metadata": {
        "id": "mu0UyIItu2wj"
      },
      "execution_count": 26,
      "outputs": []
    },
    {
      "cell_type": "code",
      "source": [
        "# Remove Duplicate Rows\n",
        "df.drop_duplicates(inplace=True)"
      ],
      "metadata": {
        "id": "nK-sLQIbu8fu"
      },
      "execution_count": 27,
      "outputs": []
    },
    {
      "cell_type": "code",
      "source": [
        "# Standardize Text Values 'gender'\n",
        "if 'gender' in df.columns:\n",
        "  df['gender'] = df['gender'].str.lower()\n",
        "  df['gender'] = df['gender'].replace({'male': 'Male', 'female': 'Female', 'm': 'Male', 'f': 'Female'})\n"
      ],
      "metadata": {
        "id": "QWXshSeDv6mC"
      },
      "execution_count": 28,
      "outputs": []
    },
    {
      "cell_type": "code",
      "source": [
        "if 'date' in df.columns:\n",
        "    try:\n",
        "        df['date'] = pd.to_datetime(df['date'])\n",
        "        df['date'] = df['date'].dt.strftime('%d-%m-%Y')\n",
        "    except ValueError:\n",
        "        print(\"Error converting 'date' column. Check the format of the dates in the input file.\")\n"
      ],
      "metadata": {
        "id": "glmGYXvNznfB"
      },
      "execution_count": 29,
      "outputs": []
    },
    {
      "cell_type": "code",
      "source": [
        "# 5. Rename Columns\n",
        "df.columns = df.columns.str.lower().str.replace(' ', '_')"
      ],
      "metadata": {
        "id": "m7rctPGAwwdW"
      },
      "execution_count": 30,
      "outputs": []
    },
    {
      "cell_type": "code",
      "source": [
        "# 6. Check and Fix Data Types\n",
        "# Convert 'age' to integer\n",
        "if 'age' in df.columns:\n",
        "  df['age'] = df['age'].astype(int)"
      ],
      "metadata": {
        "id": "YdXFHQb_xDKl"
      },
      "execution_count": 31,
      "outputs": []
    },
    {
      "cell_type": "code",
      "source": [
        "# Summary of changes\n",
        "print(\"\\nSummary of Data Cleaning:\")\n",
        "print(f\"- Missing values handled in 'age' and 'gender' columns.\")\n",
        "print(f\"- Duplicate rows removed.\")\n",
        "print(f\"- Text values in 'gender' standardized.\")\n",
        "print(f\"- Date format standardized to 'dd-mm-yyyy'.\")\n",
        "print(f\"- Column headers cleaned.\")\n",
        "print(f\"- Data type of 'age' fixed.\")"
      ],
      "metadata": {
        "colab": {
          "base_uri": "https://localhost:8080/"
        },
        "id": "VoyDzJ9uxk9_",
        "outputId": "f8b29df7-9530-408e-e4b5-a17d2429bde7"
      },
      "execution_count": 32,
      "outputs": [
        {
          "output_type": "stream",
          "name": "stdout",
          "text": [
            "\n",
            "Summary of Data Cleaning:\n",
            "- Missing values handled in 'age' and 'gender' columns.\n",
            "- Duplicate rows removed.\n",
            "- Text values in 'gender' standardized.\n",
            "- Date format standardized to 'dd-mm-yyyy'.\n",
            "- Column headers cleaned.\n",
            "- Data type of 'age' fixed.\n"
          ]
        }
      ]
    },
    {
      "cell_type": "code",
      "source": [
        "print(df.head)"
      ],
      "metadata": {
        "colab": {
          "base_uri": "https://localhost:8080/"
        },
        "id": "ykL7xR0kx08w",
        "outputId": "d0914dc5-0cf8-4368-fb4d-3941ed14c8e3"
      },
      "execution_count": 33,
      "outputs": [
        {
          "output_type": "stream",
          "name": "stdout",
          "text": [
            "<bound method NDFrame.head of      id\\tyear_birth\\teducation\\tmarital_status\\tincome\\tkidhome\\tteenhome\\tdt_customer\\trecency\\tmntwines\\tmntfruits\\tmntmeatproducts\\tmntfishproducts\\tmntsweetproducts\\tmntgoldprods\\tnumdealspurchases\\tnumwebpurchases\\tnumcatalogpurchases\\tnumstorepurchases\\tnumwebvisitsmonth\\tacceptedcmp3\\tacceptedcmp4\\tacceptedcmp5\\tacceptedcmp1\\tacceptedcmp2\\tcomplain\\tz_costcontact\\tz_revenue\\tresponse\n",
            "0     5524\\t1957\\tGraduation\\tSingle\\t58138\\t0\\t0\\t0...                                                                                                                                                                                                                                                                                                                                                  \n",
            "1     2174\\t1954\\tGraduation\\tSingle\\t46344\\t1\\t1\\t0...                                                                                                                                                                                                                                                                                                                                                  \n",
            "2     4141\\t1965\\tGraduation\\tTogether\\t71613\\t0\\t0\\...                                                                                                                                                                                                                                                                                                                                                  \n",
            "3     6182\\t1984\\tGraduation\\tTogether\\t26646\\t1\\t0\\...                                                                                                                                                                                                                                                                                                                                                  \n",
            "4     5324\\t1981\\tPhD\\tMarried\\t58293\\t1\\t0\\t19-01-2...                                                                                                                                                                                                                                                                                                                                                  \n",
            "...                                                 ...                                                                                                                                                                                                                                                                                                                                                  \n",
            "2235  10870\\t1967\\tGraduation\\tMarried\\t61223\\t0\\t1\\...                                                                                                                                                                                                                                                                                                                                                  \n",
            "2236  4001\\t1946\\tPhD\\tTogether\\t64014\\t2\\t1\\t10-06-...                                                                                                                                                                                                                                                                                                                                                  \n",
            "2237  7270\\t1981\\tGraduation\\tDivorced\\t56981\\t0\\t0\\...                                                                                                                                                                                                                                                                                                                                                  \n",
            "2238  8235\\t1956\\tMaster\\tTogether\\t69245\\t0\\t1\\t24-...                                                                                                                                                                                                                                                                                                                                                  \n",
            "2239  9405\\t1954\\tPhD\\tMarried\\t52869\\t1\\t1\\t15-10-2...                                                                                                                                                                                                                                                                                                                                                  \n",
            "\n",
            "[2240 rows x 1 columns]>\n"
          ]
        }
      ]
    }
  ]
}